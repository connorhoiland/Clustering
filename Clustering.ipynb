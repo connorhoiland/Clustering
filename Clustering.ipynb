{
 "cells": [
  {
   "cell_type": "code",
   "execution_count": 2,
   "metadata": {},
   "outputs": [],
   "source": [
    "import pandas as pd\n",
    "import numpy as np\n",
    "from sklearn.cluster import KMeans\n",
    "import matplotlib.pyplot as plt\n",
    "from sklearn.preprocessing import MinMaxScaler\n",
    "import seaborn as sns"
   ]
  },
  {
   "cell_type": "code",
   "execution_count": 3,
   "metadata": {},
   "outputs": [],
   "source": [
    "df = pd.read_csv('CH_Clustering.csv')"
   ]
  },
  {
   "cell_type": "code",
   "execution_count": 4,
   "metadata": {},
   "outputs": [],
   "source": [
    "train = pd.read_csv('CH_Clustering.csv')"
   ]
  },
  {
   "cell_type": "code",
   "execution_count": 5,
   "metadata": {},
   "outputs": [
    {
     "data": {
      "text/html": [
       "<div>\n",
       "<style scoped>\n",
       "    .dataframe tbody tr th:only-of-type {\n",
       "        vertical-align: middle;\n",
       "    }\n",
       "\n",
       "    .dataframe tbody tr th {\n",
       "        vertical-align: top;\n",
       "    }\n",
       "\n",
       "    .dataframe thead th {\n",
       "        text-align: right;\n",
       "    }\n",
       "</style>\n",
       "<table border=\"1\" class=\"dataframe\">\n",
       "  <thead>\n",
       "    <tr style=\"text-align: right;\">\n",
       "      <th></th>\n",
       "      <th>rev_Mean</th>\n",
       "      <th>mou_Mean</th>\n",
       "      <th>totmrc_Mean</th>\n",
       "      <th>da_Mean</th>\n",
       "      <th>ovrmou_Mean</th>\n",
       "      <th>ovrrev_Mean</th>\n",
       "      <th>vceovr_Mean</th>\n",
       "      <th>datovr_Mean</th>\n",
       "      <th>roam_Mean</th>\n",
       "      <th>rev_Range</th>\n",
       "      <th>...</th>\n",
       "      <th>eqpdays</th>\n",
       "      <th>asl_flag1</th>\n",
       "      <th>refurb1</th>\n",
       "      <th>creditcd1</th>\n",
       "      <th>Customer_ID</th>\n",
       "      <th>churn</th>\n",
       "      <th>servicetime</th>\n",
       "      <th>store_long</th>\n",
       "      <th>store_lat</th>\n",
       "      <th>selection</th>\n",
       "    </tr>\n",
       "  </thead>\n",
       "  <tbody>\n",
       "    <tr>\n",
       "      <th>0</th>\n",
       "      <td>57.4925</td>\n",
       "      <td>482.75</td>\n",
       "      <td>37.425</td>\n",
       "      <td>0.2475</td>\n",
       "      <td>22.75</td>\n",
       "      <td>9.1</td>\n",
       "      <td>9.1</td>\n",
       "      <td>0.0</td>\n",
       "      <td>0.0</td>\n",
       "      <td>153.14</td>\n",
       "      <td>...</td>\n",
       "      <td>240</td>\n",
       "      <td>0</td>\n",
       "      <td>1</td>\n",
       "      <td>1</td>\n",
       "      <td>1000002</td>\n",
       "      <td>0</td>\n",
       "      <td>4/1/2017 15:21</td>\n",
       "      <td>-122.280685</td>\n",
       "      <td>47.523026</td>\n",
       "      <td>chosen</td>\n",
       "    </tr>\n",
       "    <tr>\n",
       "      <th>1</th>\n",
       "      <td>16.9900</td>\n",
       "      <td>10.25</td>\n",
       "      <td>16.990</td>\n",
       "      <td>0.0000</td>\n",
       "      <td>0.00</td>\n",
       "      <td>0.0</td>\n",
       "      <td>0.0</td>\n",
       "      <td>0.0</td>\n",
       "      <td>0.0</td>\n",
       "      <td>0.00</td>\n",
       "      <td>...</td>\n",
       "      <td>1504</td>\n",
       "      <td>0</td>\n",
       "      <td>1</td>\n",
       "      <td>1</td>\n",
       "      <td>1000003</td>\n",
       "      <td>1</td>\n",
       "      <td>1/4/2017 19:49</td>\n",
       "      <td>-122.342000</td>\n",
       "      <td>47.609535</td>\n",
       "      <td>chosen</td>\n",
       "    </tr>\n",
       "    <tr>\n",
       "      <th>2</th>\n",
       "      <td>38.0000</td>\n",
       "      <td>7.50</td>\n",
       "      <td>38.000</td>\n",
       "      <td>0.0000</td>\n",
       "      <td>0.00</td>\n",
       "      <td>0.0</td>\n",
       "      <td>0.0</td>\n",
       "      <td>0.0</td>\n",
       "      <td>0.0</td>\n",
       "      <td>0.00</td>\n",
       "      <td>...</td>\n",
       "      <td>1812</td>\n",
       "      <td>0</td>\n",
       "      <td>1</td>\n",
       "      <td>1</td>\n",
       "      <td>1000004</td>\n",
       "      <td>0</td>\n",
       "      <td>1/4/2017 19:41</td>\n",
       "      <td>-122.313020</td>\n",
       "      <td>47.668995</td>\n",
       "      <td>chosen</td>\n",
       "    </tr>\n",
       "    <tr>\n",
       "      <th>3</th>\n",
       "      <td>82.2750</td>\n",
       "      <td>1312.25</td>\n",
       "      <td>75.000</td>\n",
       "      <td>1.2375</td>\n",
       "      <td>0.00</td>\n",
       "      <td>0.0</td>\n",
       "      <td>0.0</td>\n",
       "      <td>0.0</td>\n",
       "      <td>0.0</td>\n",
       "      <td>15.42</td>\n",
       "      <td>...</td>\n",
       "      <td>458</td>\n",
       "      <td>0</td>\n",
       "      <td>1</td>\n",
       "      <td>1</td>\n",
       "      <td>1000006</td>\n",
       "      <td>0</td>\n",
       "      <td>1/4/2017 19:42</td>\n",
       "      <td>-122.294020</td>\n",
       "      <td>47.716457</td>\n",
       "      <td>chosen</td>\n",
       "    </tr>\n",
       "    <tr>\n",
       "      <th>4</th>\n",
       "      <td>17.1450</td>\n",
       "      <td>0.00</td>\n",
       "      <td>16.990</td>\n",
       "      <td>0.0000</td>\n",
       "      <td>0.00</td>\n",
       "      <td>0.0</td>\n",
       "      <td>0.0</td>\n",
       "      <td>0.0</td>\n",
       "      <td>0.0</td>\n",
       "      <td>0.31</td>\n",
       "      <td>...</td>\n",
       "      <td>852</td>\n",
       "      <td>0</td>\n",
       "      <td>1</td>\n",
       "      <td>1</td>\n",
       "      <td>1000007</td>\n",
       "      <td>1</td>\n",
       "      <td>1/4/2017 19:46</td>\n",
       "      <td>-122.338250</td>\n",
       "      <td>47.610245</td>\n",
       "      <td>chosen</td>\n",
       "    </tr>\n",
       "  </tbody>\n",
       "</table>\n",
       "<p>5 rows × 129 columns</p>\n",
       "</div>"
      ],
      "text/plain": [
       "   rev_Mean  mou_Mean  totmrc_Mean  da_Mean  ovrmou_Mean  ovrrev_Mean  \\\n",
       "0   57.4925    482.75       37.425   0.2475        22.75          9.1   \n",
       "1   16.9900     10.25       16.990   0.0000         0.00          0.0   \n",
       "2   38.0000      7.50       38.000   0.0000         0.00          0.0   \n",
       "3   82.2750   1312.25       75.000   1.2375         0.00          0.0   \n",
       "4   17.1450      0.00       16.990   0.0000         0.00          0.0   \n",
       "\n",
       "   vceovr_Mean  datovr_Mean  roam_Mean  rev_Range  ...  eqpdays  asl_flag1  \\\n",
       "0          9.1          0.0        0.0     153.14  ...      240          0   \n",
       "1          0.0          0.0        0.0       0.00  ...     1504          0   \n",
       "2          0.0          0.0        0.0       0.00  ...     1812          0   \n",
       "3          0.0          0.0        0.0      15.42  ...      458          0   \n",
       "4          0.0          0.0        0.0       0.31  ...      852          0   \n",
       "\n",
       "   refurb1  creditcd1  Customer_ID  churn     servicetime  store_long  \\\n",
       "0        1          1      1000002      0  4/1/2017 15:21 -122.280685   \n",
       "1        1          1      1000003      1  1/4/2017 19:49 -122.342000   \n",
       "2        1          1      1000004      0  1/4/2017 19:41 -122.313020   \n",
       "3        1          1      1000006      0  1/4/2017 19:42 -122.294020   \n",
       "4        1          1      1000007      1  1/4/2017 19:46 -122.338250   \n",
       "\n",
       "   store_lat  selection  \n",
       "0  47.523026     chosen  \n",
       "1  47.609535     chosen  \n",
       "2  47.668995     chosen  \n",
       "3  47.716457     chosen  \n",
       "4  47.610245     chosen  \n",
       "\n",
       "[5 rows x 129 columns]"
      ]
     },
     "execution_count": 5,
     "metadata": {},
     "output_type": "execute_result"
    }
   ],
   "source": [
    "train.head()"
   ]
  },
  {
   "cell_type": "code",
   "execution_count": 6,
   "metadata": {},
   "outputs": [
    {
     "name": "stdout",
     "output_type": "stream",
     "text": [
      "['rev_Mean' 'mou_Mean' 'totmrc_Mean' 'da_Mean' 'ovrmou_Mean' 'ovrrev_Mean'\n",
      " 'vceovr_Mean' 'datovr_Mean' 'roam_Mean' 'rev_Range' 'mou_Range'\n",
      " 'totmrc_Range' 'da_Range' 'ovrmou_Range' 'ovrrev_Range' 'vceovr_Range'\n",
      " 'datovr_Range' 'roam_Range' 'change_mou' 'change_rev' 'drop_vce_Mean'\n",
      " 'drop_dat_Mean' 'blck_vce_Mean' 'blck_dat_Mean' 'unan_vce_Mean'\n",
      " 'unan_dat_Mean' 'plcd_vce_Mean' 'plcd_dat_Mean' 'recv_vce_Mean'\n",
      " 'recv_sms_Mean' 'comp_vce_Mean' 'comp_dat_Mean' 'custcare_Mean'\n",
      " 'ccrndmou_Mean' 'cc_mou_Mean' 'inonemin_Mean' 'threeway_Mean'\n",
      " 'mou_cvce_Mean' 'mou_cdat_Mean' 'mou_rvce_Mean' 'owylis_vce_Mean'\n",
      " 'mouowylisv_Mean' 'iwylis_vce_Mean' 'mouiwylisv_Mean' 'peak_vce_Mean'\n",
      " 'peak_dat_Mean' 'mou_peav_Mean' 'mou_pead_Mean' 'opk_vce_Mean'\n",
      " 'opk_dat_Mean' 'mou_opkv_Mean' 'mou_opkd_Mean' 'drop_blk_Mean'\n",
      " 'attempt_Mean' 'complete_Mean' 'callfwdv_Mean' 'callwait_Mean'\n",
      " 'drop_vce_Range' 'drop_dat_Range' 'blck_vce_Range' 'blck_dat_Range'\n",
      " 'unan_vce_Range' 'unan_dat_Range' 'plcd_vce_Range' 'plcd_dat_Range'\n",
      " 'recv_vce_Range' 'recv_sms_Range' 'comp_vce_Range' 'comp_dat_Range'\n",
      " 'custcare_Range' 'ccrndmou_Range' 'cc_mou_Range' 'inonemin_Range'\n",
      " 'threeway_Range' 'mou_cvce_Range' 'mou_cdat_Range' 'mou_rvce_Range'\n",
      " 'owylis_vce_Range' 'mouowylisv_Range' 'iwylis_vce_Range'\n",
      " 'mouiwylisv_Range' 'peak_vce_Range' 'peak_dat_Range' 'mou_peav_Range'\n",
      " 'mou_pead_Range' 'opk_vce_Range' 'opk_dat_Range' 'mou_opkv_Range'\n",
      " 'mou_opkd_Range' 'drop_blk_Range' 'attempt_Range' 'complete_Range'\n",
      " 'callfwdv_Range' 'callwait_Range' 'months' 'uniqsubs' 'actvsubs'\n",
      " 'totcalls' 'totmou' 'totrev' 'adjrev' 'adjmou' 'adjqty' 'avgrev' 'avgmou'\n",
      " 'avgqty' 'avg3mou' 'avg3qty' 'avg3rev' 'avg6mou' 'avg6qty' 'avg6rev'\n",
      " 'phones' 'models' 'truck' 'rv' 'age1' 'income' 'forgntvl' 'eqpdays'\n",
      " 'asl_flag1' 'refurb1' 'creditcd1' 'Customer_ID' 'churn' 'servicetime'\n",
      " 'store_long' 'store_lat' 'selection']\n"
     ]
    }
   ],
   "source": [
    "print(train.columns.values)"
   ]
  },
  {
   "cell_type": "code",
   "execution_count": 7,
   "metadata": {},
   "outputs": [
    {
     "name": "stdout",
     "output_type": "stream",
     "text": [
      "rev_Mean       0\n",
      "mou_Mean       0\n",
      "totmrc_Mean    0\n",
      "da_Mean        0\n",
      "ovrmou_Mean    0\n",
      "              ..\n",
      "churn          0\n",
      "servicetime    0\n",
      "store_long     0\n",
      "store_lat      0\n",
      "selection      0\n",
      "Length: 129, dtype: int64\n"
     ]
    }
   ],
   "source": [
    "print(train.isna().sum())"
   ]
  },
  {
   "cell_type": "code",
   "execution_count": 8,
   "metadata": {},
   "outputs": [
    {
     "data": {
      "text/html": [
       "<div>\n",
       "<style scoped>\n",
       "    .dataframe tbody tr th:only-of-type {\n",
       "        vertical-align: middle;\n",
       "    }\n",
       "\n",
       "    .dataframe tbody tr th {\n",
       "        vertical-align: top;\n",
       "    }\n",
       "\n",
       "    .dataframe thead th {\n",
       "        text-align: right;\n",
       "    }\n",
       "</style>\n",
       "<table border=\"1\" class=\"dataframe\">\n",
       "  <thead>\n",
       "    <tr style=\"text-align: right;\">\n",
       "      <th></th>\n",
       "      <th>income</th>\n",
       "      <th>churn</th>\n",
       "    </tr>\n",
       "  </thead>\n",
       "  <tbody>\n",
       "    <tr>\n",
       "      <th>6</th>\n",
       "      <td>7</td>\n",
       "      <td>0.527459</td>\n",
       "    </tr>\n",
       "    <tr>\n",
       "      <th>2</th>\n",
       "      <td>3</td>\n",
       "      <td>0.501840</td>\n",
       "    </tr>\n",
       "    <tr>\n",
       "      <th>7</th>\n",
       "      <td>8</td>\n",
       "      <td>0.495186</td>\n",
       "    </tr>\n",
       "    <tr>\n",
       "      <th>8</th>\n",
       "      <td>9</td>\n",
       "      <td>0.492063</td>\n",
       "    </tr>\n",
       "    <tr>\n",
       "      <th>5</th>\n",
       "      <td>6</td>\n",
       "      <td>0.491846</td>\n",
       "    </tr>\n",
       "    <tr>\n",
       "      <th>4</th>\n",
       "      <td>5</td>\n",
       "      <td>0.483063</td>\n",
       "    </tr>\n",
       "    <tr>\n",
       "      <th>3</th>\n",
       "      <td>4</td>\n",
       "      <td>0.482724</td>\n",
       "    </tr>\n",
       "    <tr>\n",
       "      <th>0</th>\n",
       "      <td>1</td>\n",
       "      <td>0.463244</td>\n",
       "    </tr>\n",
       "    <tr>\n",
       "      <th>1</th>\n",
       "      <td>2</td>\n",
       "      <td>0.451429</td>\n",
       "    </tr>\n",
       "  </tbody>\n",
       "</table>\n",
       "</div>"
      ],
      "text/plain": [
       "   income     churn\n",
       "6       7  0.527459\n",
       "2       3  0.501840\n",
       "7       8  0.495186\n",
       "8       9  0.492063\n",
       "5       6  0.491846\n",
       "4       5  0.483063\n",
       "3       4  0.482724\n",
       "0       1  0.463244\n",
       "1       2  0.451429"
      ]
     },
     "execution_count": 8,
     "metadata": {},
     "output_type": "execute_result"
    }
   ],
   "source": [
    "train[['income','churn']].groupby(['income'], as_index=False).mean().sort_values(by=\"churn\", ascending=False)"
   ]
  },
  {
   "cell_type": "code",
   "execution_count": 9,
   "metadata": {},
   "outputs": [
    {
     "data": {
      "text/plain": [
       "<seaborn.axisgrid.FacetGrid at 0x13b80017c70>"
      ]
     },
     "execution_count": 9,
     "metadata": {},
     "output_type": "execute_result"
    },
    {
     "data": {
      "image/png": "[encoded data removed]",
      "text/plain": [
       "<Figure size 432x216 with 2 Axes>"
      ]
     },
     "metadata": {
      "needs_background": "light"
     },
     "output_type": "display_data"
    }
   ],
   "source": [
    "g = sns.FacetGrid(train, col='churn')\n",
    "g.map(plt.hist,\"income\")"
   ]
  },
  {
   "cell_type": "code",
   "execution_count": 10,
   "metadata": {},
   "outputs": [
    {
     "data": {
      "text/html": [
       "<div>\n",
       "<style scoped>\n",
       "    .dataframe tbody tr th:only-of-type {\n",
       "        vertical-align: middle;\n",
       "    }\n",
       "\n",
       "    .dataframe tbody tr th {\n",
       "        vertical-align: top;\n",
       "    }\n",
       "\n",
       "    .dataframe thead th {\n",
       "        text-align: right;\n",
       "    }\n",
       "</style>\n",
       "<table border=\"1\" class=\"dataframe\">\n",
       "  <thead>\n",
       "    <tr style=\"text-align: right;\">\n",
       "      <th></th>\n",
       "      <th>churn</th>\n",
       "      <th>eqpdays</th>\n",
       "    </tr>\n",
       "  </thead>\n",
       "  <tbody>\n",
       "    <tr>\n",
       "      <th>1</th>\n",
       "      <td>1</td>\n",
       "      <td>562.715817</td>\n",
       "    </tr>\n",
       "    <tr>\n",
       "      <th>0</th>\n",
       "      <td>0</td>\n",
       "      <td>476.599881</td>\n",
       "    </tr>\n",
       "  </tbody>\n",
       "</table>\n",
       "</div>"
      ],
      "text/plain": [
       "   churn     eqpdays\n",
       "1      1  562.715817\n",
       "0      0  476.599881"
      ]
     },
     "execution_count": 10,
     "metadata": {},
     "output_type": "execute_result"
    }
   ],
   "source": [
    "train[['churn','eqpdays']].groupby(['churn'], as_index=False).mean().sort_values(by=\"eqpdays\", ascending=False)"
   ]
  },
  {
   "cell_type": "code",
   "execution_count": 11,
   "metadata": {},
   "outputs": [
    {
     "data": {
      "text/plain": [
       "<seaborn.axisgrid.FacetGrid at 0x13b800172b0>"
      ]
     },
     "execution_count": 11,
     "metadata": {},
     "output_type": "execute_result"
    },
    {
     "data": {
      "image/png": "[encoded data removed]",
      "text/plain": [
       "<Figure size 432x216 with 2 Axes>"
      ]
     },
     "metadata": {
      "needs_background": "light"
     },
     "output_type": "display_data"
    }
   ],
   "source": [
    "g = sns.FacetGrid(train, col='churn')\n",
    "g.map(plt.hist,\"eqpdays\")"
   ]
  },
  {
   "cell_type": "code",
   "execution_count": 12,
   "metadata": {},
   "outputs": [
    {
     "data": {
      "text/html": [
       "<div>\n",
       "<style scoped>\n",
       "    .dataframe tbody tr th:only-of-type {\n",
       "        vertical-align: middle;\n",
       "    }\n",
       "\n",
       "    .dataframe tbody tr th {\n",
       "        vertical-align: top;\n",
       "    }\n",
       "\n",
       "    .dataframe thead th {\n",
       "        text-align: right;\n",
       "    }\n",
       "</style>\n",
       "<table border=\"1\" class=\"dataframe\">\n",
       "  <thead>\n",
       "    <tr style=\"text-align: right;\">\n",
       "      <th></th>\n",
       "      <th>churn</th>\n",
       "      <th>refurb1</th>\n",
       "    </tr>\n",
       "  </thead>\n",
       "  <tbody>\n",
       "    <tr>\n",
       "      <th>0</th>\n",
       "      <td>0</td>\n",
       "      <td>0.853046</td>\n",
       "    </tr>\n",
       "    <tr>\n",
       "      <th>1</th>\n",
       "      <td>1</td>\n",
       "      <td>0.826456</td>\n",
       "    </tr>\n",
       "  </tbody>\n",
       "</table>\n",
       "</div>"
      ],
      "text/plain": [
       "   churn   refurb1\n",
       "0      0  0.853046\n",
       "1      1  0.826456"
      ]
     },
     "execution_count": 12,
     "metadata": {},
     "output_type": "execute_result"
    }
   ],
   "source": [
    "train[['churn','refurb1']].groupby(['churn'], as_index=False).mean().sort_values(by=\"refurb1\", ascending=False)"
   ]
  },
  {
   "cell_type": "code",
   "execution_count": 13,
   "metadata": {},
   "outputs": [
    {
     "data": {
      "text/plain": [
       "<seaborn.axisgrid.FacetGrid at 0x13b8743e7f0>"
      ]
     },
     "execution_count": 13,
     "metadata": {},
     "output_type": "execute_result"
    },
    {
     "data": {
      "image/png": "[encoded data removed]",
      "text/plain": [
       "<Figure size 432x216 with 2 Axes>"
      ]
     },
     "metadata": {
      "needs_background": "light"
     },
     "output_type": "display_data"
    }
   ],
   "source": [
    "g = sns.FacetGrid(train, col='churn')\n",
    "g.map(plt.hist,\"refurb1\")"
   ]
  },
  {
   "cell_type": "code",
   "execution_count": 83,
   "metadata": {},
   "outputs": [
    {
     "data": {
      "text/html": [
       "<div>\n",
       "<style scoped>\n",
       "    .dataframe tbody tr th:only-of-type {\n",
       "        vertical-align: middle;\n",
       "    }\n",
       "\n",
       "    .dataframe tbody tr th {\n",
       "        vertical-align: top;\n",
       "    }\n",
       "\n",
       "    .dataframe thead th {\n",
       "        text-align: right;\n",
       "    }\n",
       "</style>\n",
       "<table border=\"1\" class=\"dataframe\">\n",
       "  <thead>\n",
       "    <tr style=\"text-align: right;\">\n",
       "      <th></th>\n",
       "      <th>churn</th>\n",
       "      <th>uniqsubs</th>\n",
       "    </tr>\n",
       "  </thead>\n",
       "  <tbody>\n",
       "    <tr>\n",
       "      <th>1</th>\n",
       "      <td>1</td>\n",
       "      <td>1.583738</td>\n",
       "    </tr>\n",
       "    <tr>\n",
       "      <th>0</th>\n",
       "      <td>0</td>\n",
       "      <td>1.553204</td>\n",
       "    </tr>\n",
       "  </tbody>\n",
       "</table>\n",
       "</div>"
      ],
      "text/plain": [
       "   churn  uniqsubs\n",
       "1      1  1.583738\n",
       "0      0  1.553204"
      ]
     },
     "execution_count": 83,
     "metadata": {},
     "output_type": "execute_result"
    }
   ],
   "source": [
    "train[['churn','uniqsubs']].groupby(['churn'], as_index=False).mean().sort_values(by=\"uniqsubs\", ascending=False)"
   ]
  },
  {
   "cell_type": "code",
   "execution_count": 84,
   "metadata": {},
   "outputs": [
    {
     "data": {
      "text/plain": [
       "<seaborn.axisgrid.FacetGrid at 0x13b804bbaf0>"
      ]
     },
     "execution_count": 84,
     "metadata": {},
     "output_type": "execute_result"
    },
    {
     "data": {
      "image/png": "[encoded data removed]",
      "text/plain": [
       "<Figure size 432x216 with 2 Axes>"
      ]
     },
     "metadata": {
      "needs_background": "light"
     },
     "output_type": "display_data"
    }
   ],
   "source": [
    "g = sns.FacetGrid(train, col='churn')\n",
    "g.map(plt.hist,\"uniqsubs\")"
   ]
  },
  {
   "cell_type": "code",
   "execution_count": 85,
   "metadata": {},
   "outputs": [
    {
     "data": {
      "text/html": [
       "<div>\n",
       "<style scoped>\n",
       "    .dataframe tbody tr th:only-of-type {\n",
       "        vertical-align: middle;\n",
       "    }\n",
       "\n",
       "    .dataframe tbody tr th {\n",
       "        vertical-align: top;\n",
       "    }\n",
       "\n",
       "    .dataframe thead th {\n",
       "        text-align: right;\n",
       "    }\n",
       "</style>\n",
       "<table border=\"1\" class=\"dataframe\">\n",
       "  <thead>\n",
       "    <tr style=\"text-align: right;\">\n",
       "      <th></th>\n",
       "      <th>churn</th>\n",
       "      <th>creditcd1</th>\n",
       "    </tr>\n",
       "  </thead>\n",
       "  <tbody>\n",
       "    <tr>\n",
       "      <th>1</th>\n",
       "      <td>1</td>\n",
       "      <td>0.931230</td>\n",
       "    </tr>\n",
       "    <tr>\n",
       "      <th>0</th>\n",
       "      <td>0</td>\n",
       "      <td>0.930281</td>\n",
       "    </tr>\n",
       "  </tbody>\n",
       "</table>\n",
       "</div>"
      ],
      "text/plain": [
       "   churn  creditcd1\n",
       "1      1   0.931230\n",
       "0      0   0.930281"
      ]
     },
     "execution_count": 85,
     "metadata": {},
     "output_type": "execute_result"
    }
   ],
   "source": [
    "train[['churn','creditcd1']].groupby(['churn'], as_index=False).mean().sort_values(by=\"creditcd1\", ascending=False)"
   ]
  },
  {
   "cell_type": "code",
   "execution_count": 86,
   "metadata": {},
   "outputs": [
    {
     "data": {
      "text/plain": [
       "<seaborn.axisgrid.FacetGrid at 0x13b804b0d30>"
      ]
     },
     "execution_count": 86,
     "metadata": {},
     "output_type": "execute_result"
    },
    {
     "data": {
      "image/png": "[encoded data removed]",
      "text/plain": [
       "<Figure size 432x216 with 2 Axes>"
      ]
     },
     "metadata": {
      "needs_background": "light"
     },
     "output_type": "display_data"
    }
   ],
   "source": [
    "g = sns.FacetGrid(train, col='churn')\n",
    "g.map(plt.hist,\"creditcd1\")"
   ]
  },
  {
   "cell_type": "code",
   "execution_count": 87,
   "metadata": {},
   "outputs": [
    {
     "data": {
      "text/plain": [
       "array(['blck_dat_Mean', 'blck_vce_Mean', 'drop_dat_Mean', 'drop_vce_Mean'],\n",
       "      dtype=object)"
      ]
     },
     "execution_count": 87,
     "metadata": {},
     "output_type": "execute_result"
    }
   ],
   "source": [
    "df.columns.values"
   ]
  },
  {
   "cell_type": "code",
   "execution_count": 88,
   "metadata": {},
   "outputs": [],
   "source": [
    "used = [\"blck_dat_Mean\", \"blck_vce_Mean\", \"drop_dat_Mean\", \"drop_vce_Mean\" ]\n",
    "df= df[used]"
   ]
  },
  {
   "cell_type": "code",
   "execution_count": 20,
   "metadata": {},
   "outputs": [
    {
     "name": "stdout",
     "output_type": "stream",
     "text": [
      "blck_dat_Mean    0\n",
      "blck_vce_Mean    0\n",
      "drop_dat_Mean    0\n",
      "drop_vce_Mean    0\n",
      "dtype: int64\n"
     ]
    }
   ],
   "source": [
    "print(df.isna().sum())"
   ]
  },
  {
   "cell_type": "code",
   "execution_count": 89,
   "metadata": {},
   "outputs": [],
   "source": [
    "X = np.array(df)"
   ]
  },
  {
   "cell_type": "code",
   "execution_count": 90,
   "metadata": {},
   "outputs": [
    {
     "data": {
      "text/plain": [
       "KMeans(n_clusters=2, random_state=10)"
      ]
     },
     "execution_count": 90,
     "metadata": {},
     "output_type": "execute_result"
    }
   ],
   "source": [
    "kmeans = KMeans(n_clusters =2, random_state=10)\n",
    "kmeans.fit(X)"
   ]
  },
  {
   "cell_type": "code",
   "execution_count": 91,
   "metadata": {},
   "outputs": [
    {
     "name": "stdout",
     "output_type": "stream",
     "text": [
      "[[4.90809172e-02 1.74968732e+01 8.05381846e-02 2.03666856e+01]\n",
      " [8.66180582e-03 2.02132559e+00 1.95530216e-02 3.56742138e+00]]\n"
     ]
    }
   ],
   "source": [
    "print(kmeans.cluster_centers_)"
   ]
  },
  {
   "cell_type": "code",
   "execution_count": 92,
   "metadata": {},
   "outputs": [
    {
     "data": {
      "image/png": "[encoded data removed]",
      "text/plain": [
       "<Figure size 576x576 with 1 Axes>"
      ]
     },
     "metadata": {
      "needs_background": "light"
     },
     "output_type": "display_data"
    }
   ],
   "source": [
    "wgss = []\n",
    "K = range(1,10)\n",
    "for k in K:\n",
    "    kmeans = KMeans(n_clusters=k)\n",
    "    kmeans.fit(X)\n",
    "    wgss.append(kmeans.inertia_)\n",
    "    \n",
    "plt.figure(figsize=(8,8))\n",
    "plt.plot(K, wgss, 'bx-')\n",
    "plt.xlabel('k')\n",
    "plt.ylabel('Within Group of Sum of Squares')\n",
    "plt.title('Elbow Method')\n",
    "plt.show()"
   ]
  },
  {
   "cell_type": "code",
   "execution_count": 25,
   "metadata": {},
   "outputs": [
    {
     "name": "stdout",
     "output_type": "stream",
     "text": [
      "[[3.83318001e-03 1.64259430e+00 1.02072108e-02 2.18121085e+00]\n",
      " [6.07164541e-03 3.05140660e+00 7.17466100e-02 1.31201174e+01]\n",
      " [2.51082251e-01 9.28008658e+01 6.92640693e-02 1.44935065e+01]\n",
      " [1.62790698e-02 8.25581395e+00 1.12403101e-01 3.92937984e+01]\n",
      " [1.42371730e-01 2.23282365e+01 5.40265036e-02 6.60006796e+00]]\n"
     ]
    }
   ],
   "source": [
    "kmeans = KMeans(n_clusters=5, random_state=10)\n",
    "kmeans.fit(X)\n",
    "y_std = kmeans.predict(X)\n",
    "print(kmeans.cluster_centers_)"
   ]
  },
  {
   "cell_type": "code",
   "execution_count": 26,
   "metadata": {},
   "outputs": [
    {
     "name": "stdout",
     "output_type": "stream",
     "text": [
      "Counter({0: 15217, 1: 3294, 4: 981, 3: 431, 2: 77})\n"
     ]
    }
   ],
   "source": [
    "from collections import Counter\n",
    "print(Counter(kmeans.labels_))"
   ]
  },
  {
   "cell_type": "code",
   "execution_count": 27,
   "metadata": {},
   "outputs": [
    {
     "data": {
      "image/png": "[encoded data removed]",
      "text/plain": [
       "<Figure size 432x288 with 1 Axes>"
      ]
     },
     "metadata": {
      "needs_background": "light"
     },
     "output_type": "display_data"
    }
   ],
   "source": [
    "plt.scatter(X[:, 0], X[:, 1], c=y_std, s=15)\n",
    "\n",
    "centers = kmeans.cluster_centers_\n",
    "plt.scatter(centers[:, 0], centers[:,1], c='red', s=200, alpha=.5, marker=\"*\");\n",
    "plt.title('Clusters')\n",
    "plt.xlabel('blck_dat_Mean')\n",
    "plt.ylabel('blck_vce_Mean')\n",
    "plt.show()\n"
   ]
  },
  {
   "cell_type": "code",
   "execution_count": 28,
   "metadata": {},
   "outputs": [],
   "source": [
    "from scipy import stats\n",
    "z = np.abs(stats.zscore(df))\n",
    "df_o = df[(z < 3).all(axis=1)]"
   ]
  },
  {
   "cell_type": "code",
   "execution_count": 73,
   "metadata": {},
   "outputs": [
    {
     "data": {
      "text/plain": [
       "(20000, 4)"
      ]
     },
     "execution_count": 73,
     "metadata": {},
     "output_type": "execute_result"
    }
   ],
   "source": [
    "df.shape"
   ]
  },
  {
   "cell_type": "code",
   "execution_count": 74,
   "metadata": {},
   "outputs": [
    {
     "data": {
      "text/plain": [
       "(19273, 4)"
      ]
     },
     "execution_count": 74,
     "metadata": {},
     "output_type": "execute_result"
    }
   ],
   "source": [
    "df_o.shape"
   ]
  },
  {
   "cell_type": "code",
   "execution_count": 31,
   "metadata": {},
   "outputs": [
    {
     "name": "stdout",
     "output_type": "stream",
     "text": [
      "[[1.24691895e-03 8.54487458e-01 3.39277947e-03 1.42780919e+00]\n",
      " [2.47463499e-03 3.30512249e+00 2.27666419e-02 1.81608513e+01]\n",
      " [2.63579027e-03 1.53628918e+00 1.56264709e-02 7.96309894e+00]\n",
      " [5.28114321e-03 7.41472507e+00 6.52376514e-03 3.49425287e+00]\n",
      " [1.70250896e-02 1.82594086e+01 1.12007168e-02 7.47670251e+00]]\n"
     ]
    }
   ],
   "source": [
    "X = np.array(df_o)\n",
    "kmeans = KMeans(n_clusters=5, random_state=10)\n",
    "kmeans.fit(X)\n",
    "y_std = kmeans.predict(X)\n",
    "print(kmeans.cluster_centers_)"
   ]
  },
  {
   "cell_type": "code",
   "execution_count": 32,
   "metadata": {},
   "outputs": [
    {
     "name": "stdout",
     "output_type": "stream",
     "text": [
      "Counter({0: 11488, 2: 3541, 3: 2150, 1: 1347, 4: 747})\n"
     ]
    }
   ],
   "source": [
    "print(Counter(kmeans.labels_))"
   ]
  },
  {
   "cell_type": "code",
   "execution_count": 33,
   "metadata": {},
   "outputs": [
    {
     "data": {
      "image/png": "[encoded data removed]",
      "text/plain": [
       "<Figure size 432x288 with 1 Axes>"
      ]
     },
     "metadata": {
      "needs_background": "light"
     },
     "output_type": "display_data"
    }
   ],
   "source": [
    "plt.scatter(X[:, 0], X[:, 1], c=y_std, s=15)\n",
    "\n",
    "centers = kmeans.cluster_centers_\n",
    "plt.scatter(centers[:, 0], centers[:,1], c='red', s=200, alpha=.5, marker=\"*\");\n",
    "plt.title('Clusters')\n",
    "plt.xlabel('blck_dat_Mean')\n",
    "plt.ylabel('blck_vce_Mean')\n",
    "plt.show()"
   ]
  },
  {
   "cell_type": "code",
   "execution_count": 68,
   "metadata": {},
   "outputs": [
    {
     "data": {
      "text/plain": [
       "(19273, 2)"
      ]
     },
     "execution_count": 68,
     "metadata": {},
     "output_type": "execute_result"
    }
   ],
   "source": [
    "from sklearn.decomposition import PCA\n",
    "pca = PCA(2)\n",
    "X_pca = pca.fit_transform(df_o)\n",
    "X_pca.shape"
   ]
  },
  {
   "cell_type": "code",
   "execution_count": 69,
   "metadata": {},
   "outputs": [
    {
     "name": "stdout",
     "output_type": "stream",
     "text": [
      "[[-3.26966046 -0.40355881]\n",
      " [13.05653942 -4.91686035]\n",
      " [ 2.99160456 -2.41803005]\n",
      " [ 1.34365597  4.85353974]\n",
      " [ 9.37473908 13.15929455]]\n"
     ]
    }
   ],
   "source": [
    "kmeans = KMeans(n_clusters=5, random_state=10)\n",
    "kmeans.fit(X_pca)\n",
    "y_pca = kmeans.predict(X_pca)\n",
    "print(kmeans.cluster_centers_)"
   ]
  },
  {
   "cell_type": "code",
   "execution_count": 70,
   "metadata": {},
   "outputs": [
    {
     "name": "stdout",
     "output_type": "stream",
     "text": [
      "Counter({0: 11539, 2: 3544, 3: 2116, 1: 1343, 4: 731})\n"
     ]
    }
   ],
   "source": [
    "print(Counter(kmeans.labels_))"
   ]
  },
  {
   "cell_type": "code",
   "execution_count": 71,
   "metadata": {},
   "outputs": [
    {
     "data": {
      "image/png": "[encoded data removed]",
      "text/plain": [
       "<Figure size 432x288 with 1 Axes>"
      ]
     },
     "metadata": {
      "needs_background": "light"
     },
     "output_type": "display_data"
    }
   ],
   "source": [
    "plt.scatter(X_pca[:, 0], X_pca[:, 1], c=y_pca, s=15)\n",
    "\n",
    "centers = kmeans.cluster_centers_\n",
    "plt.scatter(centers[:, 0], centers[:,1], c='red', s=200, alpha=.5, marker=\"*\");\n",
    "plt.title('Clusters')\n",
    "plt.xlabel('PCA 1')\n",
    "plt.ylabel('PCA 2')\n",
    "plt.show()"
   ]
  },
  {
   "cell_type": "code",
   "execution_count": null,
   "metadata": {},
   "outputs": [],
   "source": []
  },
  {
   "cell_type": "code",
   "execution_count": 55,
   "metadata": {},
   "outputs": [],
   "source": [
    "used2 = ['churn']\n",
    "df2 = train[used2]\n",
    "y = np.array(df2)\n"
   ]
  },
  {
   "cell_type": "code",
   "execution_count": 93,
   "metadata": {},
   "outputs": [
    {
     "data": {
      "text/plain": [
       "KMeans(n_clusters=2, random_state=10)"
      ]
     },
     "execution_count": 93,
     "metadata": {},
     "output_type": "execute_result"
    }
   ],
   "source": [
    "from sklearn.metrics import accuracy_score\n",
    "kmeans = KMeans(n_clusters = 2, random_state = 10)\n",
    "kmeans.fit(X)"
   ]
  },
  {
   "cell_type": "code",
   "execution_count": 94,
   "metadata": {},
   "outputs": [
    {
     "name": "stdout",
     "output_type": "stream",
     "text": [
      "Accuracy is: 0.50395\n"
     ]
    }
   ],
   "source": [
    "from sklearn import metrics\n",
    "\n",
    "\n",
    "y_x = kmeans.predict(X)\n",
    "print('Accuracy is:', metrics.accuracy_score(y, y_x))"
   ]
  },
  {
   "cell_type": "code",
   "execution_count": 95,
   "metadata": {},
   "outputs": [
    {
     "name": "stdout",
     "output_type": "stream",
     "text": [
      "Accuracy:  0.49685\n"
     ]
    }
   ],
   "source": [
    "X_minmax = MinMaxScaler().fit_transform(X)\n",
    "kmeans.fit(X_minmax)\n",
    "\n",
    "y_minmax = kmeans.predict(X_minmax)\n",
    "print(\"Accuracy: \", metrics.accuracy_score(y, y_minmax))"
   ]
  },
  {
   "cell_type": "code",
   "execution_count": 98,
   "metadata": {},
   "outputs": [
    {
     "name": "stdout",
     "output_type": "stream",
     "text": [
      "Accuracy is: 0.50565\n"
     ]
    }
   ],
   "source": [
    "from sklearn.preprocessing import StandardScaler\n",
    "X_std = StandardScaler().fit_transform(X)\n",
    "kmeans.fit(X_std)\n",
    "\n",
    "y_std = kmeans.predict(X_std)\n",
    "print(\"Accuracy is:\", metrics.accuracy_score(y, y_std))"
   ]
  },
  {
   "cell_type": "code",
   "execution_count": 100,
   "metadata": {},
   "outputs": [
    {
     "name": "stdout",
     "output_type": "stream",
     "text": [
      "Accuracy: 0.5056\n"
     ]
    }
   ],
   "source": [
    "dbscan = cluster.DBSCAN(eps=.8, min_samples = 5)\n",
    "dbscan.fit(X_minmax)\n",
    "\n",
    "correct = 0\n",
    "for i in range(len(X_minmax)):\n",
    "    predict_me = np.array(X_minmax[i].astype(float))\n",
    "    predict_me = predict_me.reshape(-1, len(predict_me))\n",
    "    prediction = dbscan.labels_.astype(np.int)\n",
    "    if prediction[0] == y[i]:\n",
    "        correct += 1 \n",
    "print(\"Accuracy:\", correct/len(X_minmax))"
   ]
  },
  {
   "cell_type": "code",
   "execution_count": null,
   "metadata": {},
   "outputs": [],
   "source": []
  },
  {
   "cell_type": "code",
   "execution_count": null,
   "metadata": {},
   "outputs": [],
   "source": []
  },
  {
   "cell_type": "code",
   "execution_count": 62,
   "metadata": {},
   "outputs": [
    {
     "name": "stdout",
     "output_type": "stream",
     "text": [
      "\n",
      "\n",
      "eps value: 0.1 , # of clusters: 598 , silhouette score: 0.6750442118178882\n",
      "eps value: 0.2 , # of clusters: 598 , silhouette score: 0.6750442118178882\n",
      "eps value: 0.3 , # of clusters: 598 , silhouette score: 0.6750442118178882\n",
      "eps value: 0.4 , # of clusters: 56 , silhouette score: -0.4633965816088183\n"
     ]
    }
   ],
   "source": [
    "from sklearn.metrics import silhouette_score\n",
    "from sklearn import cluster\n",
    "data = [X]\n",
    "val_eps = [.1, .2, .3, .4]\n",
    "\n",
    "\n",
    "for dat in data:\n",
    "    print(\"\\n\")\n",
    "    for i in val_eps:\n",
    "        dbscan = cluster.DBSCAN(eps=i, min_samples = 5)\n",
    "        dbscan.fit(dat)\n",
    "        \n",
    "        n_clusters_ = len(set(dbscan.labels_)) - (1 if -1 in dbscan.labels_ else 0)\n",
    "        \n",
    "        sil_avg = silhouette_score(dat, dbscan.labels_)\n",
    "        print('eps value: ' + str(i), ', # of clusters: %d' % n_clusters_, ', silhouette score:', sil_avg)"
   ]
  },
  {
   "cell_type": "code",
   "execution_count": 39,
   "metadata": {},
   "outputs": [
    {
     "data": {
      "text/plain": [
       "DBSCAN(eps=0.4, min_samples=3)"
      ]
     },
     "execution_count": 39,
     "metadata": {},
     "output_type": "execute_result"
    }
   ],
   "source": [
    "dbscan = cluster.DBSCAN(eps= .4, min_samples=3)\n",
    "dbscan.fit(X)"
   ]
  },
  {
   "cell_type": "code",
   "execution_count": 40,
   "metadata": {},
   "outputs": [
    {
     "name": "stdout",
     "output_type": "stream",
     "text": [
      "Estimated number of clusters: 90\n"
     ]
    }
   ],
   "source": [
    "core_samples = dbscan.core_sample_indices_\n",
    "labels = dbscan.labels_\n",
    "n_clusters_ = len(set(labels)) - (1 if -1 in labels else 0 )\n",
    "\n",
    "print('Estimated number of clusters: %d' % n_clusters_)"
   ]
  },
  {
   "cell_type": "code",
   "execution_count": 76,
   "metadata": {
    "scrolled": true
   },
   "outputs": [
    {
     "name": "stdout",
     "output_type": "stream",
     "text": [
      "\n",
      "\n",
      "eps value: 0.2 , # of clusters: 974 , silhouette score: 0.7737372600470399\n",
      "eps value: 0.4 , # of clusters: 90 , silhouette score: -0.02382871188229389\n",
      "eps value: 0.5 , # of clusters: 68 , silhouette score: -0.05908518578612973\n",
      "eps value: 0.6 , # of clusters: 69 , silhouette score: -0.0525645726399352\n",
      "\n",
      "\n",
      "eps value: 0.2 , # of clusters: 334 , silhouette score: 0.5485407617025219\n",
      "eps value: 0.4 , # of clusters: 20 , silhouette score: 0.1600063130655404\n",
      "eps value: 0.5 , # of clusters: 19 , silhouette score: 0.33402554711755833\n",
      "eps value: 0.6 , # of clusters: 19 , silhouette score: 0.334918204678586\n"
     ]
    }
   ],
   "source": [
    "data = [X]\n",
    "val_eps = [.2, .4, .5, .6]\n",
    "min_sample = [3, 10]\n",
    "\n",
    "\n",
    "for ms in min_sample:\n",
    "    print(\"\\n\")\n",
    "    for i in val_eps:\n",
    "        dbscan = cluster.DBSCAN(eps=i, min_samples = ms)\n",
    "        dbscan.fit(dat)\n",
    "        \n",
    "        n_clusters_ = len(set(dbscan.labels_)) - (1 if -1 in dbscan.labels_ else 0)\n",
    "        \n",
    "        sil_avg = silhouette_score(dat, dbscan.labels_)\n",
    "        print('eps value: ' + str(i), ', # of clusters: %d' % n_clusters_, ', silhouette score:', sil_avg)"
   ]
  },
  {
   "cell_type": "code",
   "execution_count": 57,
   "metadata": {},
   "outputs": [
    {
     "name": "stdout",
     "output_type": "stream",
     "text": [
      "\n",
      "\n",
      "eps value: 0.1 , # of clusters: 974 , silhouette score: 0.7737372600470399\n",
      "eps value: 0.2 , # of clusters: 974 , silhouette score: 0.7737372600470399\n",
      "eps value: 0.3 , # of clusters: 974 , silhouette score: 0.7737372600470399\n",
      "eps value: 0.4 , # of clusters: 90 , silhouette score: -0.02382871188229389\n",
      "\n",
      "\n",
      "eps value: 0.1 , # of clusters: 598 , silhouette score: 0.6750442118178882\n",
      "eps value: 0.2 , # of clusters: 598 , silhouette score: 0.6750442118178882\n",
      "eps value: 0.3 , # of clusters: 598 , silhouette score: 0.6750442118178882\n",
      "eps value: 0.4 , # of clusters: 56 , silhouette score: -0.4633965816088183\n",
      "\n",
      "\n",
      "eps value: 0.1 , # of clusters: 400 , silhouette score: 0.591444437472963\n",
      "eps value: 0.2 , # of clusters: 400 , silhouette score: 0.591444437472963\n",
      "eps value: 0.3 , # of clusters: 400 , silhouette score: 0.591444437472963\n",
      "eps value: 0.4 , # of clusters: 29 , silhouette score: 0.2062287167722864\n",
      "\n",
      "\n",
      "eps value: 0.1 , # of clusters: 334 , silhouette score: 0.5485407617025219\n",
      "eps value: 0.2 , # of clusters: 334 , silhouette score: 0.5485407617025219\n",
      "eps value: 0.3 , # of clusters: 334 , silhouette score: 0.5485407617025219\n",
      "eps value: 0.4 , # of clusters: 20 , silhouette score: 0.1600063130655404\n"
     ]
    }
   ],
   "source": [
    "for ms in min_sample:\n",
    "    print(\"\\n\")\n",
    "    for i in val_eps:\n",
    "        dbscan = cluster.DBSCAN(eps=i, min_samples = ms)\n",
    "        dbscan.fit(dat)\n",
    "        \n",
    "        n_clusters_ = len(set(dbscan.labels_)) - (1 if -1 in dbscan.labels_ else 0)\n",
    "        \n",
    "        sil_avg = silhouette_score(dat, dbscan.labels_)\n",
    "        print('eps value: ' + str(i), ', # of clusters: %d' % n_clusters_, ', silhouette score:', sil_avg)\n"
   ]
  },
  {
   "cell_type": "code",
   "execution_count": 64,
   "metadata": {},
   "outputs": [
    {
     "name": "stdout",
     "output_type": "stream",
     "text": [
      "\n",
      "\n",
      "eps value: 0.2 , # of clusters: 974 , silhouette score: 0.7737372600470399\n",
      "eps value: 0.3 , # of clusters: 974 , silhouette score: 0.7737372600470399\n",
      "eps value: 0.4 , # of clusters: 90 , silhouette score: -0.02382871188229389\n",
      "eps value: 0.5 , # of clusters: 68 , silhouette score: -0.05908518578612973\n",
      "eps value: 0.6 , # of clusters: 69 , silhouette score: -0.0525645726399352\n",
      "\n",
      "\n",
      "eps value: 0.2 , # of clusters: 334 , silhouette score: 0.5485407617025219\n",
      "eps value: 0.3 , # of clusters: 334 , silhouette score: 0.5485407617025219\n",
      "eps value: 0.4 , # of clusters: 20 , silhouette score: 0.1600063130655404\n",
      "eps value: 0.5 , # of clusters: 19 , silhouette score: 0.33402554711755833\n",
      "eps value: 0.6 , # of clusters: 19 , silhouette score: 0.334918204678586\n"
     ]
    }
   ],
   "source": [
    "\n"
   ]
  },
  {
   "cell_type": "code",
   "execution_count": 103,
   "metadata": {},
   "outputs": [
    {
     "name": "stdout",
     "output_type": "stream",
     "text": [
      "\n",
      "\n",
      "eps value: 0.2 , # of clusters: 974 , silhouette score: 0.7737372600470399\n",
      "eps value: 0.4 , # of clusters: 90 , silhouette score: -0.02382871188229389\n",
      "eps value: 0.5 , # of clusters: 68 , silhouette score: -0.05908518578612973\n",
      "eps value: 0.6 , # of clusters: 69 , silhouette score: -0.0525645726399352\n",
      "\n",
      "\n",
      "eps value: 0.2 , # of clusters: 334 , silhouette score: 0.5485407617025219\n",
      "eps value: 0.4 , # of clusters: 20 , silhouette score: 0.1600063130655404\n",
      "eps value: 0.5 , # of clusters: 19 , silhouette score: 0.33402554711755833\n",
      "eps value: 0.6 , # of clusters: 19 , silhouette score: 0.334918204678586\n"
     ]
    }
   ],
   "source": [
    "data = [X_minmax]\n",
    "val_eps = [.2, .4, .5, .6]\n",
    "min_sample = [3, 10]\n",
    "\n",
    "for ms in min_sample:\n",
    "    print(\"\\n\")\n",
    "    for i in val_eps:\n",
    "        dbscan = cluster.DBSCAN(eps=i, min_samples = ms)\n",
    "        dbscan.fit(dat)\n",
    "        \n",
    "        n_clusters_ = len(set(dbscan.labels_)) - (1 if -1 in dbscan.labels_ else 0)\n",
    "        \n",
    "        sil_avg = silhouette_score(dat, dbscan.labels_)\n",
    "        print('eps value: ' + str(i), ', # of clusters: %d' % n_clusters_, ', silhouette score:', sil_avg)"
   ]
  },
  {
   "cell_type": "code",
   "execution_count": null,
   "metadata": {},
   "outputs": [],
   "source": [
    "data = [X_std]\n",
    "val_eps = [.2, .4, .5, .6]\n",
    "min_sample = [3, 10]\n",
    "\n",
    "for ms in min_sample:\n",
    "    print(\"\\n\")\n",
    "    for i in val_eps:\n",
    "        dbscan = cluster.DBSCAN(eps=i, min_samples = ms)\n",
    "        dbscan.fit(dat)\n",
    "        \n",
    "        n_clusters_ = len(set(dbscan.labels_)) - (1 if -1 in dbscan.labels_ else 0)\n",
    "        \n",
    "        sil_avg = silhouette_score(dat, dbscan.labels_)\n",
    "        print('eps value: ' + str(i), ', # of clusters: %d' % n_clusters_, ', silhouette score:', sil_avg)"
   ]
  }
 ],
 "metadata": {
  "kernelspec": {
   "display_name": "Python 3",
   "language": "python",
   "name": "python3"
  },
  "language_info": {
   "codemirror_mode": {
    "name": "ipython",
    "version": 3
   },
   "file_extension": ".py",
   "mimetype": "text/x-python",
   "name": "python",
   "nbconvert_exporter": "python",
   "pygments_lexer": "ipython3",
   "version": "3.8.3"
  }
 },
 "nbformat": 4,
 "nbformat_minor": 4
}
